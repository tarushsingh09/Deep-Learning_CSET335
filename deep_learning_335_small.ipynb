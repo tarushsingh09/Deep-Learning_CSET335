{
  "cells": [
    {
      "cell_type": "code",
      "source": [
        "!git clone https://github.com/tarushsingh09/Deep-Learning_CSET335.git"
      ],
      "metadata": {
        "id": "JZfmZGHPZyCi"
      },
      "id": "JZfmZGHPZyCi",
      "execution_count": null,
      "outputs": []
    },
    {
      "cell_type": "code",
      "source": [
        "pip install -r /content/Deep-Learning_CSET335/requirements.txt"
      ],
      "metadata": {
        "id": "lfjh3lPiZ9YY"
      },
      "id": "lfjh3lPiZ9YY",
      "execution_count": null,
      "outputs": []
    },
    {
      "cell_type": "code",
      "execution_count": null,
      "id": "c22e4849",
      "metadata": {
        "_cell_guid": "b1076dfc-b9ad-4769-8c92-a6c4dae69d19",
        "_uuid": "8f2839f25d086af736a60e9eeb907d3b93b6e0e5",
        "execution": {
          "iopub.execute_input": "2022-06-06T11:22:04.284474Z",
          "iopub.status.busy": "2022-06-06T11:22:04.283842Z",
          "iopub.status.idle": "2022-06-06T11:22:10.971949Z",
          "shell.execute_reply": "2022-06-06T11:22:10.971144Z",
          "shell.execute_reply.started": "2022-06-06T10:46:28.537996Z"
        },
        "papermill": {
          "duration": 6.715324,
          "end_time": "2022-06-06T11:22:10.972115",
          "exception": false,
          "start_time": "2022-06-06T11:22:04.256791",
          "status": "completed"
        },
        "tags": [],
        "id": "c22e4849"
      },
      "outputs": [],
      "source": [
        "import numpy as np\n",
        "import pandas as pd\n",
        "import matplotlib.pyplot as plt\n",
        "import tensorflow as tf\n",
        "from tensorflow.keras import layers\n",
        "from time import perf_counter\n",
        "import os\n",
        "from keras.callbacks import ModelCheckpoint\n",
        "from keras.models import load_model\n",
        "from tensorflow.keras.utils import plot_model"
      ]
    },
    {
      "cell_type": "code",
      "execution_count": null,
      "id": "75070279",
      "metadata": {
        "execution": {
          "iopub.execute_input": "2022-06-06T11:22:11.006494Z",
          "iopub.status.busy": "2022-06-06T11:22:11.005804Z",
          "iopub.status.idle": "2022-06-06T11:22:11.008733Z",
          "shell.execute_reply": "2022-06-06T11:22:11.008225Z",
          "shell.execute_reply.started": "2022-06-06T10:46:31.286079Z"
        },
        "papermill": {
          "duration": 0.021664,
          "end_time": "2022-06-06T11:22:11.008874",
          "exception": false,
          "start_time": "2022-06-06T11:22:10.987210",
          "status": "completed"
        },
        "tags": [],
        "id": "75070279"
      },
      "outputs": [],
      "source": [
        "## Defining batch specfications\n",
        "batch_size = 100\n",
        "img_height = 250\n",
        "img_width = 250"
      ]
    },
    {
      "cell_type": "code",
      "execution_count": null,
      "id": "eed3d696",
      "metadata": {
        "execution": {
          "iopub.execute_input": "2022-06-06T11:22:11.043329Z",
          "iopub.status.busy": "2022-06-06T11:22:11.042666Z",
          "iopub.status.idle": "2022-06-06T11:22:11.281141Z",
          "shell.execute_reply": "2022-06-06T11:22:11.281663Z",
          "shell.execute_reply.started": "2022-06-06T10:46:31.292379Z"
        },
        "papermill": {
          "duration": 0.258275,
          "end_time": "2022-06-06T11:22:11.281841",
          "exception": false,
          "start_time": "2022-06-06T11:22:11.023566",
          "status": "completed"
        },
        "tags": [],
        "id": "eed3d696"
      },
      "outputs": [],
      "source": [
        "## loading training set\n",
        "training_data = tf.keras.preprocessing.image_dataset_from_directory(\n",
        "    '/content/Deep-Learning_CSET335/data/train',\n",
        "    seed=42,\n",
        "    image_size= (img_height, img_width),\n",
        "    batch_size=batch_size,\n",
        "    color_mode='rgb'\n",
        ")"
      ]
    },
    {
      "cell_type": "code",
      "execution_count": null,
      "id": "d52bb780",
      "metadata": {
        "execution": {
          "iopub.execute_input": "2022-06-06T11:22:11.318440Z",
          "iopub.status.busy": "2022-06-06T11:22:11.317741Z",
          "iopub.status.idle": "2022-06-06T11:22:11.437737Z",
          "shell.execute_reply": "2022-06-06T11:22:11.438464Z",
          "shell.execute_reply.started": "2022-06-06T10:46:31.868234Z"
        },
        "papermill": {
          "duration": 0.141084,
          "end_time": "2022-06-06T11:22:11.438707",
          "exception": false,
          "start_time": "2022-06-06T11:22:11.297623",
          "status": "completed"
        },
        "tags": [],
        "id": "d52bb780"
      },
      "outputs": [],
      "source": [
        "## loading validation dataset\n",
        "validation_data =  tf.keras.preprocessing.image_dataset_from_directory(\n",
        "    '/content/Deep-Learning_CSET335/data/val',\n",
        "    seed=42,\n",
        "    image_size= (img_height, img_width),\n",
        "    batch_size=batch_size,\n",
        "    color_mode='rgb'\n",
        ")"
      ]
    },
    {
      "cell_type": "code",
      "execution_count": null,
      "id": "a5216ed0",
      "metadata": {
        "execution": {
          "iopub.execute_input": "2022-06-06T11:22:11.474428Z",
          "iopub.status.busy": "2022-06-06T11:22:11.473769Z",
          "iopub.status.idle": "2022-06-06T11:22:11.597522Z",
          "shell.execute_reply": "2022-06-06T11:22:11.596930Z",
          "shell.execute_reply.started": "2022-06-06T10:46:31.998384Z"
        },
        "papermill": {
          "duration": 0.142358,
          "end_time": "2022-06-06T11:22:11.597671",
          "exception": false,
          "start_time": "2022-06-06T11:22:11.455313",
          "status": "completed"
        },
        "tags": [],
        "id": "a5216ed0"
      },
      "outputs": [],
      "source": [
        "## loading testing dataset\n",
        "testing_data = tf.keras.preprocessing.image_dataset_from_directory(\n",
        "    '/content/Deep-Learning_CSET335/data/test',\n",
        "    seed=42,\n",
        "    image_size= (img_height, img_width),\n",
        "    batch_size=batch_size,\n",
        "    color_mode='rgb'\n",
        ")"
      ]
    },
    {
      "cell_type": "code",
      "execution_count": null,
      "id": "0f6cb045",
      "metadata": {
        "execution": {
          "iopub.execute_input": "2022-06-06T11:22:11.639051Z",
          "iopub.status.busy": "2022-06-06T11:22:11.638119Z",
          "iopub.status.idle": "2022-06-06T11:22:11.642875Z",
          "shell.execute_reply": "2022-06-06T11:22:11.642232Z",
          "shell.execute_reply.started": "2022-06-06T10:46:32.123352Z"
        },
        "papermill": {
          "duration": 0.029358,
          "end_time": "2022-06-06T11:22:11.643040",
          "exception": false,
          "start_time": "2022-06-06T11:22:11.613682",
          "status": "completed"
        },
        "tags": [],
        "id": "0f6cb045"
      },
      "outputs": [],
      "source": [
        "testing_data"
      ]
    },
    {
      "cell_type": "code",
      "execution_count": null,
      "id": "cca4892e",
      "metadata": {
        "execution": {
          "iopub.execute_input": "2022-06-06T11:22:11.682246Z",
          "iopub.status.busy": "2022-06-06T11:22:11.681351Z",
          "iopub.status.idle": "2022-06-06T11:22:11.685497Z",
          "shell.execute_reply": "2022-06-06T11:22:11.684898Z",
          "shell.execute_reply.started": "2022-06-06T10:46:32.135442Z"
        },
        "papermill": {
          "duration": 0.025718,
          "end_time": "2022-06-06T11:22:11.685637",
          "exception": false,
          "start_time": "2022-06-06T11:22:11.659919",
          "status": "completed"
        },
        "tags": [],
        "id": "cca4892e"
      },
      "outputs": [],
      "source": [
        "class_names = training_data.class_names\n",
        "class_names"
      ]
    },
    {
      "cell_type": "code",
      "execution_count": null,
      "id": "5176cc78",
      "metadata": {
        "execution": {
          "iopub.execute_input": "2022-06-06T11:22:11.724575Z",
          "iopub.status.busy": "2022-06-06T11:22:11.723900Z",
          "iopub.status.idle": "2022-06-06T11:22:11.729144Z",
          "shell.execute_reply": "2022-06-06T11:22:11.729655Z",
          "shell.execute_reply.started": "2022-06-06T10:46:32.148210Z"
        },
        "papermill": {
          "duration": 0.027549,
          "end_time": "2022-06-06T11:22:11.729835",
          "exception": false,
          "start_time": "2022-06-06T11:22:11.702286",
          "status": "completed"
        },
        "tags": [],
        "id": "5176cc78"
      },
      "outputs": [],
      "source": [
        "## Configuring dataset for performance\n",
        "AUTOTUNE = tf.data.experimental.AUTOTUNE\n",
        "training_data = training_data.cache().prefetch(buffer_size=AUTOTUNE)\n",
        "testing_data = testing_data.cache().prefetch(buffer_size=AUTOTUNE)"
      ]
    },
    {
      "cell_type": "code",
      "execution_count": null,
      "id": "82bc89e3",
      "metadata": {
        "execution": {
          "iopub.execute_input": "2022-06-06T11:22:11.768660Z",
          "iopub.status.busy": "2022-06-06T11:22:11.767963Z",
          "iopub.status.idle": "2022-06-06T11:22:11.826933Z",
          "shell.execute_reply": "2022-06-06T11:22:11.826211Z",
          "shell.execute_reply.started": "2022-06-06T10:46:32.163777Z"
        },
        "papermill": {
          "duration": 0.079717,
          "end_time": "2022-06-06T11:22:11.827076",
          "exception": false,
          "start_time": "2022-06-06T11:22:11.747359",
          "status": "completed"
        },
        "tags": [],
        "id": "82bc89e3"
      },
      "outputs": [],
      "source": [
        "## Defining Cnn\n",
        "model = tf.keras.models.Sequential([\n",
        "  layers.BatchNormalization(),\n",
        "  layers.Conv2D(32, 3, activation='relu'), # Conv2D(f_size, filter_size, activation) # relu, sigmoid, softmax\n",
        "  layers.MaxPooling2D(), # MaxPooling\n",
        "  layers.Conv2D(64, 3, activation='relu'),\n",
        "  layers.MaxPooling2D(),\n",
        "  layers.Conv2D(128, 3, activation='relu'),\n",
        "  layers.MaxPooling2D(),\n",
        "  layers.Conv2D(256, 3, activation='relu'),\n",
        "  layers.MaxPooling2D(),\n",
        "  layers.Flatten(),\n",
        "  layers.Dense(512, activation='relu'),\n",
        "  layers.Dense(len(class_names), activation= 'softmax')\n",
        "])\n",
        "\n",
        "model.compile(optimizer='adam',loss='sparse_categorical_crossentropy', metrics=['accuracy'])"
      ]
    },
    {
      "cell_type": "code",
      "execution_count": null,
      "id": "3c69caf5",
      "metadata": {
        "execution": {
          "iopub.execute_input": "2022-06-06T11:22:11.866838Z",
          "iopub.status.busy": "2022-06-06T11:22:11.866008Z",
          "iopub.status.idle": "2022-06-06T11:22:12.150115Z",
          "shell.execute_reply": "2022-06-06T11:22:12.149113Z",
          "shell.execute_reply.started": "2022-06-06T10:46:33.004393Z"
        },
        "papermill": {
          "duration": 0.306291,
          "end_time": "2022-06-06T11:22:12.150305",
          "exception": false,
          "start_time": "2022-06-06T11:22:11.844014",
          "status": "completed"
        },
        "tags": [],
        "id": "3c69caf5"
      },
      "outputs": [],
      "source": [
        "model.build((None, 250, 250, 3))\n",
        "model.summary()"
      ]
    },
    {
      "cell_type": "code",
      "execution_count": null,
      "id": "c18e9b4f",
      "metadata": {
        "execution": {
          "iopub.execute_input": "2022-06-06T11:22:12.190572Z",
          "iopub.status.busy": "2022-06-06T11:22:12.189914Z",
          "iopub.status.idle": "2022-06-06T11:22:13.448607Z",
          "shell.execute_reply": "2022-06-06T11:22:13.449131Z",
          "shell.execute_reply.started": "2022-06-06T10:46:33.449004Z"
        },
        "papermill": {
          "duration": 1.281486,
          "end_time": "2022-06-06T11:22:13.449301",
          "exception": false,
          "start_time": "2022-06-06T11:22:12.167815",
          "status": "completed"
        },
        "tags": [],
        "id": "c18e9b4f"
      },
      "outputs": [],
      "source": [
        "plot_model(model, show_shapes=True)"
      ]
    },
    {
      "cell_type": "code",
      "execution_count": null,
      "id": "0192e7be",
      "metadata": {
        "execution": {
          "iopub.execute_input": "2022-06-06T11:22:13.493997Z",
          "iopub.status.busy": "2022-06-06T11:22:13.493302Z",
          "iopub.status.idle": "2022-06-06T11:45:04.193237Z",
          "shell.execute_reply": "2022-06-06T11:45:04.194020Z",
          "shell.execute_reply.started": "2022-06-06T10:46:34.771213Z"
        },
        "papermill": {
          "duration": 1370.724139,
          "end_time": "2022-06-06T11:45:04.194454",
          "exception": false,
          "start_time": "2022-06-06T11:22:13.470315",
          "status": "completed"
        },
        "tags": [],
        "id": "0192e7be"
      },
      "outputs": [],
      "source": [
        "## lets train our CNN\n",
        "checkpoint = ModelCheckpoint(\"model_weights.h5\", monitor='val_accuracy', verbose=1, save_best_only=True, mode='max')\n",
        "callbacks_list = [checkpoint]\n",
        "history = model.fit(training_data, validation_data=validation_data, epochs = 20, callbacks=callbacks_list)"
      ]
    },
    {
      "cell_type": "code",
      "execution_count": null,
      "id": "1d0e4f18",
      "metadata": {
        "execution": {
          "iopub.execute_input": "2022-06-06T11:45:04.374139Z",
          "iopub.status.busy": "2022-06-06T11:45:04.373501Z",
          "iopub.status.idle": "2022-06-06T11:45:04.381286Z",
          "shell.execute_reply": "2022-06-06T11:45:04.381827Z",
          "shell.execute_reply.started": "2022-06-06T11:11:37.400737Z"
        },
        "papermill": {
          "duration": 0.09748,
          "end_time": "2022-06-06T11:45:04.382001",
          "exception": false,
          "start_time": "2022-06-06T11:45:04.284521",
          "status": "completed"
        },
        "tags": [],
        "id": "1d0e4f18"
      },
      "outputs": [],
      "source": [
        "###### serialize model structure to JSON\n",
        "model_json = model.to_json()\n",
        "with open(\"model.json\", \"w\") as json_file:\n",
        "    json_file.write(model_json)"
      ]
    },
    {
      "cell_type": "code",
      "execution_count": null,
      "id": "5c1b2041",
      "metadata": {
        "execution": {
          "iopub.execute_input": "2022-06-06T11:45:05.457449Z",
          "iopub.status.busy": "2022-06-06T11:45:05.456580Z",
          "iopub.status.idle": "2022-06-06T11:45:12.629447Z",
          "shell.execute_reply": "2022-06-06T11:45:12.628843Z",
          "shell.execute_reply.started": "2022-06-06T11:11:37.935322Z"
        },
        "papermill": {
          "duration": 7.269324,
          "end_time": "2022-06-06T11:45:12.629596",
          "exception": false,
          "start_time": "2022-06-06T11:45:05.360272",
          "status": "completed"
        },
        "tags": [],
        "id": "5c1b2041"
      },
      "outputs": [],
      "source": [
        "## lets vizualize results on testing data\n",
        "AccuracyVector = []\n",
        "plt.figure(figsize=(30, 30))\n",
        "for images, labels in testing_data.take(1):\n",
        "    predictions = model.predict(images)\n",
        "    predlabel = []\n",
        "    prdlbl = []\n",
        "\n",
        "    for mem in predictions:\n",
        "        predlabel.append(class_names[np.argmax(mem)])\n",
        "        prdlbl.append(np.argmax(mem))\n",
        "\n",
        "    AccuracyVector = np.array(prdlbl) == labels\n",
        "    for i in range(40):\n",
        "        ax = plt.subplot(10, 4, i + 1)\n",
        "        plt.imshow(images[i].numpy().astype(\"uint8\"))\n",
        "        plt.title('Pred: '+ predlabel[i]+' actl:'+class_names[labels[i]] )\n",
        "        plt.axis('off')\n",
        "        plt.grid(True)"
      ]
    },
    {
      "cell_type": "code",
      "source": [
        "!pip install google-colab"
      ],
      "metadata": {
        "id": "SXyaD8Xqu6m4"
      },
      "id": "SXyaD8Xqu6m4",
      "execution_count": null,
      "outputs": []
    },
    {
      "cell_type": "code",
      "source": [
        "from keras.models import model_from_json\n",
        "import numpy as np\n",
        "\n",
        "class AccidentDetectionModel(object):\n",
        "\n",
        "    class_nums = ['Accident', \"No Accident\"]\n",
        "\n",
        "    def __init__(self, model_json_file, model_weights_file):\n",
        "        # load model from JSON file\n",
        "        with open(model_json_file, \"r\") as json_file:\n",
        "            loaded_model_json = json_file.read()\n",
        "            self.loaded_model = model_from_json(loaded_model_json)\n",
        "\n",
        "        # load weights into the new model\n",
        "        self.loaded_model.load_weights(model_weights_file)\n",
        "        self.loaded_model.make_predict_function()\n",
        "\n",
        "    def predict_accident(self, img):\n",
        "        self.preds = self.loaded_model.predict(img)\n",
        "        return AccidentDetectionModel.class_nums[np.argmax(self.preds)], self.preds"
      ],
      "metadata": {
        "id": "wIOcOBf1s3CH"
      },
      "id": "wIOcOBf1s3CH",
      "execution_count": null,
      "outputs": []
    },
    {
      "cell_type": "code",
      "source": [
        "import cv2\n",
        "from google.colab.patches import cv2_imshow\n",
        "\n",
        "import numpy as np\n",
        "import os\n",
        "\n",
        "model = AccidentDetectionModel(\"/content/model.json\", '/content/model_weights.h5')\n",
        "font = cv2.FONT_HERSHEY_SIMPLEX\n",
        "\n",
        "def startapplication():\n",
        "    video = cv2.VideoCapture('/content/Original Video.mp4') # for camera use video = cv2.VideoCapture(0)\n",
        "    while True:\n",
        "        ret, frame = video.read()\n",
        "        gray_frame = cv2.cvtColor(frame, cv2.COLOR_BGR2RGB)\n",
        "        roi = cv2.resize(gray_frame, (250, 250))\n",
        "\n",
        "        pred, prob = model.predict_accident(roi[np.newaxis, :, :])\n",
        "        if(pred == \"Accident\"):\n",
        "            prob = (round(prob[0][0]*100, 2))\n",
        "\n",
        "            # to beep when alert:\n",
        "            # if(prob > 90):\n",
        "            #     os.system(\"say beep\")\n",
        "\n",
        "            cv2.rectangle(frame, (0, 0), (280, 40), (0, 0, 0), -1)\n",
        "            cv2.putText(frame, pred+\" \"+str(prob), (20, 30), font, 1, (255, 255, 0), 2)\n",
        "\n",
        "        if cv2.waitKey(33) & 0xFF == ord('q'):\n",
        "            return\n",
        "        cv2_imshow(frame)\n",
        "\n",
        "\n",
        "try:\n",
        "\n",
        "  startapplication()\n",
        "except:\n",
        "  print(\"completed\")"
      ],
      "metadata": {
        "id": "2boshP_TtCUe"
      },
      "id": "2boshP_TtCUe",
      "execution_count": null,
      "outputs": []
    },
    {
      "cell_type": "code",
      "source": [
        "import cv2\n",
        "from google.colab.patches import cv2_imshow\n",
        "import numpy as np\n",
        "import os\n",
        "\n",
        "model = AccidentDetectionModel(\"/content/model.json\", '/content/model_weights.h5')\n",
        "font = cv2.FONT_HERSHEY_SIMPLEX\n",
        "\n",
        "def startapplication():\n",
        "    video = cv2.VideoCapture('/content/Original Video.mp4') # for camera use video = cv2.VideoCapture(0)\n",
        "\n",
        "    # Get the dimensions of the input video\n",
        "    width = int(video.get(cv2.CAP_PROP_FRAME_WIDTH))\n",
        "    height = int(video.get(cv2.CAP_PROP_FRAME_HEIGHT))\n",
        "\n",
        "    # Define the codec and create VideoWriter object\n",
        "    fourcc = cv2.VideoWriter_fourcc(*'mp4v')  # Use 'mp4v' codec for MP4 encoding\n",
        "    out = cv2.VideoWriter('output_new1.mp4', fourcc, 20.0, (width, height))\n",
        "\n",
        "    while True:\n",
        "        ret, frame = video.read()\n",
        "        if not ret:\n",
        "            break\n",
        "\n",
        "        gray_frame = cv2.cvtColor(frame, cv2.COLOR_BGR2RGB)\n",
        "        roi = cv2.resize(gray_frame, (250, 250))\n",
        "\n",
        "        pred, prob = model.predict_accident(roi[np.newaxis, :, :])\n",
        "        if pred == \"Accident\":\n",
        "            prob = (round(prob[0][0]*100, 2))\n",
        "\n",
        "            # to beep when alert:\n",
        "            # if prob > 90:\n",
        "            #     os.system(\"say beep\")\n",
        "\n",
        "            cv2.rectangle(frame, (0, 0), (280, 40), (0, 0, 0), -1)\n",
        "            cv2.putText(frame, pred + \" \" + str(prob), (20, 30), font, 1, (255, 255, 0), 2)\n",
        "\n",
        "        out.write(frame)  # Write the frame to the output video file\n",
        "\n",
        "        cv2_imshow(frame)  # Display the frame using cv2_imshow() for Colab\n",
        "        if cv2.waitKey(1) & 0xFF == ord('q'):\n",
        "            break\n",
        "\n",
        "    # Release everything if job is finished\n",
        "    video.release()\n",
        "    out.release()\n",
        "\n",
        "startapplication()\n",
        "\n"
      ],
      "metadata": {
        "id": "z5u5lFhO6LmH"
      },
      "id": "z5u5lFhO6LmH",
      "execution_count": null,
      "outputs": []
    }
  ],
  "metadata": {
    "interpreter": {
      "hash": "916dbcbb3f70747c44a77c7bcd40155683ae19c65e1c03b4aa3499c5328201f1"
    },
    "kernelspec": {
      "display_name": "Python 3",
      "name": "python3"
    },
    "language_info": {
      "codemirror_mode": {
        "name": "ipython",
        "version": 3
      },
      "file_extension": ".py",
      "mimetype": "text/x-python",
      "name": "python",
      "nbconvert_exporter": "python",
      "pygments_lexer": "ipython3",
      "version": "3.8.10"
    },
    "papermill": {
      "default_parameters": {},
      "duration": 1402.432589,
      "end_time": "2022-06-06T11:45:16.380977",
      "environment_variables": {},
      "exception": null,
      "input_path": "__notebook__.ipynb",
      "output_path": "__notebook__.ipynb",
      "parameters": {},
      "start_time": "2022-06-06T11:21:53.948388",
      "version": "2.3.3"
    },
    "colab": {
      "provenance": [],
      "gpuType": "T4"
    },
    "accelerator": "GPU"
  },
  "nbformat": 4,
  "nbformat_minor": 5
}